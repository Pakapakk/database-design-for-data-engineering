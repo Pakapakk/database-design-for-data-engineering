{
  "nbformat": 4,
  "nbformat_minor": 0,
  "metadata": {
    "colab": {
      "provenance": [],
      "authorship_tag": "ABX9TyPXIKUBFGrkZv/BNm1p9FAg"
    },
    "kernelspec": {
      "name": "python3",
      "display_name": "Python 3"
    },
    "language_info": {
      "name": "python"
    }
  },
  "cells": [
    {
      "cell_type": "markdown",
      "source": [
        "MongoDB initialization"
      ],
      "metadata": {
        "id": "5Zv3E337uQLd"
      }
    },
    {
      "cell_type": "code",
      "execution_count": null,
      "metadata": {
        "id": "QI_12QShs9D0",
        "collapsed": true
      },
      "outputs": [],
      "source": [
        "!curl ipecho.net/plain\n",
        "! python -m pip install \"pymongo[srv]\"==3.11\n",
        "! pip  install pymongo[srv,tls]\n",
        "! pip install dnspython\n",
        "!pip install pandas"
      ]
    },
    {
      "cell_type": "code",
      "source": [
        "# @title\n",
        "from pymongo.mongo_client import MongoClient\n",
        "from google.colab import userdata\n",
        "userdata.get('mongoDB_password')\n",
        "\n",
        "password = userdata.get('mongoDB_password')\n",
        "\n",
        "uri = \"mongodb+srv://PakkyNoi:\" + password + \"@workshop-bakery.dltqwqx.mongodb.net/?retryWrites=true&w=majority&appName=Workshop-Bakery\"\n",
        "# Create a new client and connect to the server\n",
        "client = MongoClient(uri)\n",
        "# Send a ping to confirm a successful connection\n",
        "try:\n",
        "    client.admin.command('ping')\n",
        "    print(\"Pinged your deployment. You successfully connected to MongoDB!\")\n",
        "except Exception as e:\n",
        "    print(e)\n"
      ],
      "metadata": {
        "id": "hRnBga6htKJ0",
        "collapsed": true
      },
      "execution_count": null,
      "outputs": []
    },
    {
      "cell_type": "code",
      "source": [
        "BakeryDB = client.Bakery\n",
        "# BakeryDB.create_collection('customer_details')\n",
        "# BakeryDB.drop_collection('customer-details')"
      ],
      "metadata": {
        "collapsed": true,
        "id": "7Q4nyMh8Vp2S"
      },
      "execution_count": 102,
      "outputs": []
    },
    {
      "cell_type": "code",
      "source": [
        "CakeCollection = BakeryDB.cakes\n",
        "# print(\"\\n\".join(str(data) for data in CakeCollection.find()))\n",
        "cakeNameArray = [data['name'] for data in CakeCollection.find({}, {'name': 1})]\n",
        "# 1 means include the field.\n",
        "# 0 means exclude the field.\n",
        "# print(cakeNameArray)"
      ],
      "metadata": {
        "id": "gfTxsdnDjzfc"
      },
      "execution_count": 103,
      "outputs": []
    },
    {
      "cell_type": "code",
      "source": [
        "BakeryDB.list_collection_names()"
      ],
      "metadata": {
        "id": "bRc2xL3viB_V"
      },
      "execution_count": null,
      "outputs": []
    },
    {
      "cell_type": "markdown",
      "source": [
        "# Cake Information"
      ],
      "metadata": {
        "id": "ryu5RDSSuXDM"
      }
    },
    {
      "cell_type": "code",
      "source": [
        "#@title Cake Information\n",
        "\n",
        "Name = \"example\" #@param {type:\"string\"}\n",
        "Description = \"\" #@param {type: \"string\"}\n",
        "#@markdown > \"enter ingredients in format A,B,C (no spacing)\"\n",
        "Ingredients = \"A,B,C,D\" #@param {type:\"string\"}\n",
        "Image_URL = \"https://url_example.jpeg\" #@param {type : \"string\"}\n",
        "Recipe = \"example\" #@param {type: \"string\"}\n",
        "Stock = 100 #@param {type: \"integer\"}\n",
        "\n",
        "ingredientsArray = Ingredients.split(\",\");"
      ],
      "metadata": {
        "id": "bq8an3k94cvO"
      },
      "execution_count": null,
      "outputs": []
    },
    {
      "cell_type": "code",
      "source": [
        "# adding cake\n",
        "cakeInput = {\n",
        "    'name' : Name,\n",
        "    'shortDescription': Description,\n",
        "    'image': Image_URL,\n",
        "    'ingredients': ingredientsArray,\n",
        "    'recipe' : Recipe,\n",
        "    'stock' : Stock\n",
        "    }\n",
        "\n",
        "CakeCollection.insert_one(cakeInput)\n",
        "list (CakeCollection.find())"
      ],
      "metadata": {
        "id": "mXZyXqMwmwQa",
        "collapsed": true
      },
      "execution_count": null,
      "outputs": []
    },
    {
      "cell_type": "markdown",
      "source": [
        "#Customer Information"
      ],
      "metadata": {
        "id": "j_FSw1_ZvoD9"
      }
    },
    {
      "cell_type": "code",
      "source": [
        "#@title Customer Information\n",
        "\n",
        "Firstname = \"example\" #@param {type:\"string\"}\n",
        "Lastname = \"example\" #@param {type:\"string\"}\n",
        "Age = 18 #@param {type:\"slider\", min:10, max:100, step:1}\n",
        "Gender = \"Male\" #@param [\"Male\", \"Female\", \"Not Specify\"]\n",
        "Telephone = \"090\" #@param {type:\"string\"}\n",
        "Email = \"example@gmail.com\" #@param {type:\"string\"}\n",
        "\n",
        "#@markdown Address\n",
        "Street = \"example\" #@param {type:\"string\"}\n",
        "Village_number = \"22/2\" #@param {type:\"string\"}\n",
        "City = \"example\" #@param {type:\"string\"}\n",
        "PostalCode = \"12345\" #@param {type:\"string\"}"
      ],
      "metadata": {
        "id": "aBWpSZl3vryd"
      },
      "execution_count": null,
      "outputs": []
    },
    {
      "cell_type": "code",
      "source": [
        "# adding customer info\n",
        "customerInput = {\n",
        "    'firstname' : Firstname,\n",
        "    'lastname': Lastname,\n",
        "    'age': Age,\n",
        "    'gender': Gender,\n",
        "    'telephone' : Telephone,\n",
        "    'email' : Email,\n",
        "    'street' : Street,\n",
        "    'villageNumber': Village_number,\n",
        "    'city': City,\n",
        "    'postal-code': PostalCode\n",
        "    }\n",
        "CustomerCollection = BakeryDB.customer_details\n",
        "CustomerCollection.insert_one(customerInput)\n",
        "list (CustomerCollection.find())"
      ],
      "metadata": {
        "id": "7rwcV5LDpToo"
      },
      "execution_count": null,
      "outputs": []
    },
    {
      "cell_type": "markdown",
      "source": [
        "#Ordering"
      ],
      "metadata": {
        "id": "gfSxkJuAvvKV"
      }
    },
    {
      "cell_type": "code",
      "source": [
        "#@title Ordering\n",
        "\n",
        "Firstame = \"Veggiee\" #@param {type:\"string\"}\n",
        "Lastname = \"Pak\" #@param {type:\"string\"}\n",
        "Vegan_Order = \"No\" #@param [\"Yes\", \"No\"]\n",
        "if Vegan_Order == \"Yes\":\n",
        "  Vegan = True\n",
        "else:\n",
        "  Vegan = False\n",
        "\n",
        "Menu = \"\" #@param {type : \"string\"}\n",
        "Quantity = 0 #@param {type : \"integer\"}\n",
        "Pickup_Date = \"2024-05-24\" #@param {type : \"date\"}"
      ],
      "metadata": {
        "id": "V8HD6hfKvuZN"
      },
      "execution_count": null,
      "outputs": []
    },
    {
      "cell_type": "code",
      "source": [
        "# adding Ordering info\n",
        "from datetime import date\n",
        "\n",
        "orderingInput = {\n",
        "    'firstname' : Firstname,\n",
        "    'lastname': Lastname,\n",
        "    'vegan' : Vegan_Order,\n",
        "    'menu' : Menu,\n",
        "    'quantity': Quantity,\n",
        "    'orderingDate' : str(date.today()),\n",
        "    'pickupDate' : Pickup_Date\n",
        "    }\n",
        "OrderingCollection = BakeryDB.order_records\n",
        "OrderingCollection.insert_one(orderingInput)\n",
        "list (OrderingCollection.find())"
      ],
      "metadata": {
        "id": "3GYCWneup0zK",
        "collapsed": true
      },
      "execution_count": null,
      "outputs": []
    },
    {
      "cell_type": "markdown",
      "source": [
        "#Search Engine"
      ],
      "metadata": {
        "id": "WYetGH-MfN-R"
      }
    },
    {
      "cell_type": "code",
      "source": [
        "# #@title search Firstname Lastname\n",
        "# list ( user.find( {'$and': [ {'Firstname': Firstname},{'Lastname': Lastname} ]}))"
      ],
      "metadata": {
        "id": "1rNN3q5Zbuv8"
      },
      "execution_count": null,
      "outputs": []
    }
  ]
}