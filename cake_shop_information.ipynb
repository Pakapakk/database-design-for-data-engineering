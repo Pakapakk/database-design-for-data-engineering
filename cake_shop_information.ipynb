{
  "nbformat": 4,
  "nbformat_minor": 0,
  "metadata": {
    "colab": {
      "provenance": [],
      "authorship_tag": "ABX9TyOwjvO4pkTBR7Jbnak43OfK",
      "include_colab_link": true
    },
    "kernelspec": {
      "name": "python3",
      "display_name": "Python 3"
    },
    "language_info": {
      "name": "python"
    }
  },
  "cells": [
    {
      "cell_type": "markdown",
      "metadata": {
        "id": "view-in-github",
        "colab_type": "text"
      },
      "source": [
        "<a href=\"https://colab.research.google.com/github/Pakapakk/database-design-for-data-engineering/blob/main/cake_shop_information.ipynb\" target=\"_parent\"><img src=\"https://colab.research.google.com/assets/colab-badge.svg\" alt=\"Open In Colab\"/></a>"
      ]
    },
    {
      "cell_type": "markdown",
      "source": [
        "#MongoDB initialization"
      ],
      "metadata": {
        "id": "5Zv3E337uQLd"
      }
    },
    {
      "cell_type": "code",
      "execution_count": null,
      "metadata": {
        "id": "QI_12QShs9D0",
        "collapsed": true,
        "colab": {
          "base_uri": "https://localhost:8080/"
        },
        "outputId": "c7dc44b4-6c56-42d8-aed3-9160799aefee"
      },
      "outputs": [
        {
          "output_type": "stream",
          "name": "stdout",
          "text": [
            "34.80.163.111Collecting pymongo[srv]==3.11\n",
            "  Downloading pymongo-3.11.0.tar.gz (771 kB)\n",
            "\u001b[2K     \u001b[90m━━━━━━━━━━━━━━━━━━━━━━━━━━━━━━━━━━━━━━━━\u001b[0m \u001b[32m771.7/771.7 kB\u001b[0m \u001b[31m4.0 MB/s\u001b[0m eta \u001b[36m0:00:00\u001b[0m\n",
            "\u001b[?25h  Preparing metadata (setup.py) ... \u001b[?25l\u001b[?25hdone\n",
            "Collecting dnspython<2.0.0,>=1.16.0 (from pymongo[srv]==3.11)\n",
            "  Downloading dnspython-1.16.0-py2.py3-none-any.whl (188 kB)\n",
            "\u001b[2K     \u001b[90m━━━━━━━━━━━━━━━━━━━━━━━━━━━━━━━━━━━━━━━━\u001b[0m \u001b[32m188.4/188.4 kB\u001b[0m \u001b[31m6.1 MB/s\u001b[0m eta \u001b[36m0:00:00\u001b[0m\n",
            "\u001b[?25hBuilding wheels for collected packages: pymongo\n",
            "  Building wheel for pymongo (setup.py) ... \u001b[?25l\u001b[?25hdone\n",
            "  Created wheel for pymongo: filename=pymongo-3.11.0-cp310-cp310-linux_x86_64.whl size=493668 sha256=d6b7a0cdfa823238dd6ea6c87b6bafc41be638000762a0481e4e40173a6fb37e\n",
            "  Stored in directory: /root/.cache/pip/wheels/df/6e/99/27524029bf53fd025e0d44093d77e4fc0b27c6344acd6f3e86\n",
            "Successfully built pymongo\n",
            "Installing collected packages: pymongo, dnspython\n",
            "Successfully installed dnspython-1.16.0 pymongo-3.11.0\n",
            "Requirement already satisfied: pymongo[srv,tls] in /usr/local/lib/python3.10/dist-packages (3.11.0)\n",
            "Requirement already satisfied: dnspython<2.0.0,>=1.16.0 in /usr/local/lib/python3.10/dist-packages (from pymongo[srv,tls]) (1.16.0)\n",
            "Requirement already satisfied: dnspython in /usr/local/lib/python3.10/dist-packages (1.16.0)\n",
            "Requirement already satisfied: pandas in /usr/local/lib/python3.10/dist-packages (2.0.3)\n",
            "Requirement already satisfied: python-dateutil>=2.8.2 in /usr/local/lib/python3.10/dist-packages (from pandas) (2.8.2)\n",
            "Requirement already satisfied: pytz>=2020.1 in /usr/local/lib/python3.10/dist-packages (from pandas) (2023.4)\n",
            "Requirement already satisfied: tzdata>=2022.1 in /usr/local/lib/python3.10/dist-packages (from pandas) (2024.1)\n",
            "Requirement already satisfied: numpy>=1.21.0 in /usr/local/lib/python3.10/dist-packages (from pandas) (1.25.2)\n",
            "Requirement already satisfied: six>=1.5 in /usr/local/lib/python3.10/dist-packages (from python-dateutil>=2.8.2->pandas) (1.16.0)\n"
          ]
        }
      ],
      "source": [
        "!curl ipecho.net/plain\n",
        "! python -m pip install \"pymongo[srv]\"==3.11\n",
        "! pip  install pymongo[srv,tls]\n",
        "! pip install dnspython\n",
        "!pip install pandas"
      ]
    },
    {
      "cell_type": "code",
      "source": [
        "# @title\n",
        "from pymongo.mongo_client import MongoClient\n",
        "from google.colab import userdata\n",
        "userdata.get('mongoDB_password')\n",
        "\n",
        "password = userdata.get('mongoDB_password')\n",
        "\n",
        "uri = \"mongodb+srv://PakkyNoi:\" + password + \"@workshop-bakery.dltqwqx.mongodb.net/?retryWrites=true&w=majority&appName=Workshop-Bakery\"\n",
        "# Create a new client and connect to the server\n",
        "client = MongoClient(uri)\n",
        "# Send a ping to confirm a successful connection\n",
        "try:\n",
        "    client.admin.command('ping')\n",
        "    print(\"Pinged your deployment. You successfully connected to MongoDB!\")\n",
        "except Exception as e:\n",
        "    print(e)\n"
      ],
      "metadata": {
        "id": "hRnBga6htKJ0",
        "collapsed": true,
        "colab": {
          "base_uri": "https://localhost:8080/"
        },
        "outputId": "6a86bdf9-3079-401c-dd24-fad7eb9e4ade"
      },
      "execution_count": null,
      "outputs": [
        {
          "output_type": "stream",
          "name": "stdout",
          "text": [
            "Pinged your deployment. You successfully connected to MongoDB!\n"
          ]
        }
      ]
    },
    {
      "cell_type": "code",
      "source": [
        "BakeryDB = client.Bakery\n",
        "# BakeryDB.create_collection('customer_details')\n",
        "# BakeryDB.drop_collection('customer-details')"
      ],
      "metadata": {
        "collapsed": true,
        "id": "7Q4nyMh8Vp2S"
      },
      "execution_count": null,
      "outputs": []
    },
    {
      "cell_type": "code",
      "source": [
        "CakeCollection = BakeryDB.cakes\n",
        "# print(\"\\n\".join(str(data) for data in CakeCollection.find()))\n",
        "# cakeNameList = [data['name'] for data in CakeCollection.find({}, {'name': 1})]\n",
        "cakeNameList = list(data['name'] for data in CakeCollection.find({}, {'name': 1}))\n",
        "# 1 means include the field.\n",
        "# 0 means exclude the field.\n",
        "\n",
        "cakeNameList"
      ],
      "metadata": {
        "id": "gfTxsdnDjzfc",
        "colab": {
          "base_uri": "https://localhost:8080/"
        },
        "outputId": "bcc6c1e3-32f4-4014-e5f7-6373ae57dd7c"
      },
      "execution_count": null,
      "outputs": [
        {
          "output_type": "execute_result",
          "data": {
            "text/plain": [
              "['Chocolate Cake', 'Cheese Cake', 'example']"
            ]
          },
          "metadata": {},
          "execution_count": 6
        }
      ]
    },
    {
      "cell_type": "code",
      "source": [
        "BakeryDB.list_collection_names()"
      ],
      "metadata": {
        "id": "bRc2xL3viB_V",
        "colab": {
          "base_uri": "https://localhost:8080/"
        },
        "outputId": "ac2edd4f-53db-4e55-9a70-9bde07a07726"
      },
      "execution_count": null,
      "outputs": [
        {
          "output_type": "execute_result",
          "data": {
            "text/plain": [
              "['cakes', 'customer_details', 'order_records']"
            ]
          },
          "metadata": {},
          "execution_count": 7
        }
      ]
    },
    {
      "cell_type": "markdown",
      "source": [
        "# Cake Information"
      ],
      "metadata": {
        "id": "ryu5RDSSuXDM"
      }
    },
    {
      "cell_type": "code",
      "source": [
        "#@title Cake Information\n",
        "\n",
        "Name = \"example\" #@param {type:\"string\"}\n",
        "Short_Description = \"example\" #@param {type: \"string\"}\n",
        "Description = \"example\" #@param {type: \"string\"}\n",
        "#@markdown > \"enter ingredients in format A,B,C (no spacing)\"\n",
        "Ingredients = \"A,B,C,D\" #@param {type:\"string\"}\n",
        "Image_URL = \"https://url_example.jpeg\" #@param {type : \"string\"}\n",
        "Recipe = \"example,example,example,example,example\" #@param {type: \"string\"}\n",
        "Stock = 100 #@param {type: \"integer\"}\n",
        "Price_in_dollars =  20 #@param {type: \"number\"}\n",
        "\n",
        "ingredientsArray = Ingredients.split(\",\");"
      ],
      "metadata": {
        "id": "bq8an3k94cvO"
      },
      "execution_count": null,
      "outputs": []
    },
    {
      "cell_type": "code",
      "source": [
        "# adding cake\n",
        "cakeInput = {\n",
        "    'name' : Name,\n",
        "    'shortDescription': Short_Description,\n",
        "    'description': Description,\n",
        "    'image': Image_URL,\n",
        "    'ingredients': ingredientsArray,\n",
        "    'recipe' : Recipe,\n",
        "    'stock' : Stock,\n",
        "    'priceDollars' : Price_in_dollars,\n",
        "    }\n",
        "\n",
        "CakeCollection.insert_one(cakeInput)\n",
        "list (CakeCollection.find())"
      ],
      "metadata": {
        "id": "mXZyXqMwmwQa",
        "collapsed": true
      },
      "execution_count": null,
      "outputs": []
    },
    {
      "cell_type": "markdown",
      "source": [
        "#Customer Information"
      ],
      "metadata": {
        "id": "j_FSw1_ZvoD9"
      }
    },
    {
      "cell_type": "code",
      "source": [
        "#@title Customer Information\n",
        "\n",
        "Firstname = \"Veggiee\" #@param {type:\"string\"}\n",
        "Lastname = \"Pak\" #@param {type:\"string\"}\n",
        "Age = 18 #@param {type:\"slider\", min:10, max:100, step:1}\n",
        "Gender = \"Male\" #@param [\"Male\", \"Female\", \"Not Specify\"]\n",
        "Telephone = \"090\" #@param {type:\"string\"}\n",
        "Email = \"example@gmail.com\" #@param {type:\"string\"}\n",
        "\n",
        "#@markdown Address\n",
        "Street = \"example\" #@param {type:\"string\"}\n",
        "Village_number = \"22/2\" #@param {type:\"string\"}\n",
        "City = \"example\" #@param {type:\"string\"}\n",
        "PostalCode = \"12345\" #@param {type:\"string\"}"
      ],
      "metadata": {
        "id": "aBWpSZl3vryd"
      },
      "execution_count": null,
      "outputs": []
    },
    {
      "cell_type": "code",
      "source": [
        "# adding customer info\n",
        "customerInput = {\n",
        "    'firstname' : Firstname,\n",
        "    'lastname': Lastname,\n",
        "    'age': Age,\n",
        "    'gender': Gender,\n",
        "    'telephone' : Telephone,\n",
        "    'email' : Email,\n",
        "    'street' : Street,\n",
        "    'villageNumber': Village_number,\n",
        "    'city': City,\n",
        "    'postal-code': PostalCode\n",
        "    }\n",
        "CustomerCollection = BakeryDB.customer_details\n",
        "CustomerCollection.insert_one(customerInput)\n",
        "list (CustomerCollection.find())"
      ],
      "metadata": {
        "id": "7rwcV5LDpToo"
      },
      "execution_count": null,
      "outputs": []
    },
    {
      "cell_type": "markdown",
      "source": [
        "#Ordering"
      ],
      "metadata": {
        "id": "gfSxkJuAvvKV"
      }
    },
    {
      "cell_type": "code",
      "source": [
        "#@title Ordering\n",
        "\n",
        "Firstname = \"Veggiee\" #@param {type:\"string\"}\n",
        "Lastname = \"Pak\" #@param {type:\"string\"}\n",
        "Vegan_Order = \"No\" #@param [\"Yes\", \"No\"]\n",
        "if Vegan_Order == \"Yes\":\n",
        "  Vegan = True\n",
        "else:\n",
        "  Vegan = False\n",
        "\n",
        "Menu = \"Chocolate Cake\" #@param {type : \"string\"}\n",
        "Quantity = 0 #@param {type : \"integer\"}\n",
        "Pickup_Date = \"2024-06-08\" #@param {type : \"date\"}\n",
        "Pickup_Location = \"Delivery\" #@param [\"Self-pickup\", \"Delivery\"]"
      ],
      "metadata": {
        "id": "V8HD6hfKvuZN"
      },
      "execution_count": null,
      "outputs": []
    },
    {
      "cell_type": "code",
      "source": [
        "# adding Ordering info\n",
        "from datetime import date\n",
        "\n",
        "orderingInput = {\n",
        "    'firstname' : Firstname,\n",
        "    'lastname': Lastname,\n",
        "    'vegan' : Vegan_Order,\n",
        "    'menu' : Menu,\n",
        "    'quantity': Quantity,\n",
        "    'orderingDate' : str(date.today()),\n",
        "    'pickupDate' : Pickup_Date,\n",
        "    'pickupLocation' : Pickup_Location\n",
        "    }\n",
        "\n",
        "OrderingCollection = BakeryDB.order_records\n",
        "OrderingCollection.insert_one(orderingInput)\n",
        "list (OrderingCollection.find())"
      ],
      "metadata": {
        "id": "3GYCWneup0zK",
        "collapsed": true,
        "colab": {
          "base_uri": "https://localhost:8080/"
        },
        "outputId": "46051a5e-7245-40fd-9888-8a8ead628be5"
      },
      "execution_count": null,
      "outputs": [
        {
          "output_type": "execute_result",
          "data": {
            "text/plain": [
              "[{'_id': ObjectId('66486239b58df0a4120a2075'),\n",
              "  'firstname': 'Veggiee',\n",
              "  'lastname': 'Pak',\n",
              "  'vegan': 'No',\n",
              "  'menu': 'Cheese Cake',\n",
              "  'quantity': 0,\n",
              "  'orderingDate': '2024-05-18',\n",
              "  'pickupDate': '2024-05-31',\n",
              "  'pickupLocation': 'Self-pickup'},\n",
              " {'_id': ObjectId('66486251b58df0a4120a2076'),\n",
              "  'firstname': 'example',\n",
              "  'lastname': 'example',\n",
              "  'vegan': 'No',\n",
              "  'menu': 'Chocolate Cake',\n",
              "  'quantity': 0,\n",
              "  'orderingDate': '2024-05-18',\n",
              "  'pickupDate': '2024-05-31',\n",
              "  'pickupLocation': 'Self-pickup'},\n",
              " {'_id': ObjectId('664865c6b58df0a4120a2077'),\n",
              "  'firstname': 'Veggiee',\n",
              "  'lastname': 'Pak',\n",
              "  'vegan': 'No',\n",
              "  'menu': 'Chocolate Cake',\n",
              "  'quantity': 0,\n",
              "  'orderingDate': '2024-05-18',\n",
              "  'pickupDate': '2024-06-08',\n",
              "  'pickupLocation': 'Delivery'}]"
            ]
          },
          "metadata": {},
          "execution_count": 12
        }
      ]
    },
    {
      "cell_type": "code",
      "source": [],
      "metadata": {
        "id": "vgi5iakLv6v-"
      },
      "execution_count": null,
      "outputs": []
    }
  ]
}