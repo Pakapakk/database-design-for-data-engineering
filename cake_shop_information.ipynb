{
  "nbformat": 4,
  "nbformat_minor": 0,
  "metadata": {
    "colab": {
      "provenance": [],
      "authorship_tag": "ABX9TyOyBdTfRqKOOrnRFk0+WWA5"
    },
    "kernelspec": {
      "name": "python3",
      "display_name": "Python 3"
    },
    "language_info": {
      "name": "python"
    }
  },
  "cells": [
    {
      "cell_type": "markdown",
      "source": [
        "#MongoDB initialization"
      ],
      "metadata": {
        "id": "5Zv3E337uQLd"
      }
    },
    {
      "cell_type": "code",
      "execution_count": null,
      "metadata": {
        "id": "QI_12QShs9D0",
        "collapsed": true
      },
      "outputs": [],
      "source": [
        "!curl ipecho.net/plain\n",
        "! python -m pip install \"pymongo[srv]\"==3.11\n",
        "! pip  install pymongo[srv,tls]\n",
        "! pip install dnspython\n",
        "!pip install pandas"
      ]
    },
    {
      "cell_type": "code",
      "source": [
        "# @title\n",
        "from pymongo.mongo_client import MongoClient\n",
        "from google.colab import userdata\n",
        "userdata.get('mongoDB_password')\n",
        "\n",
        "password = userdata.get('mongoDB_password')\n",
        "\n",
        "uri = \"mongodb+srv://PakkyNoi:\" + password + \"@workshop-bakery.dltqwqx.mongodb.net/?retryWrites=true&w=majority&appName=Workshop-Bakery\"\n",
        "# Create a new client and connect to the server\n",
        "client = MongoClient(uri)\n",
        "# Send a ping to confirm a successful connection\n",
        "try:\n",
        "    client.admin.command('ping')\n",
        "    print(\"Pinged your deployment. You successfully connected to MongoDB!\")\n",
        "except Exception as e:\n",
        "    print(e)\n"
      ],
      "metadata": {
        "id": "hRnBga6htKJ0",
        "collapsed": true,
        "colab": {
          "base_uri": "https://localhost:8080/"
        },
        "outputId": "e14d20cf-5144-479c-965a-5d77a83561ae"
      },
      "execution_count": 4,
      "outputs": [
        {
          "output_type": "stream",
          "name": "stdout",
          "text": [
            "Pinged your deployment. You successfully connected to MongoDB!\n"
          ]
        }
      ]
    },
    {
      "cell_type": "code",
      "source": [
        "BakeryDB = client.Bakery\n",
        "# BakeryDB.create_collection('customer_details')\n",
        "# BakeryDB.drop_collection('customer-details')"
      ],
      "metadata": {
        "collapsed": true,
        "id": "7Q4nyMh8Vp2S"
      },
      "execution_count": 5,
      "outputs": []
    },
    {
      "cell_type": "code",
      "source": [
        "CakeCollection = BakeryDB.cakes\n",
        "# print(\"\\n\".join(str(data) for data in CakeCollection.find()))\n",
        "# cakeNameList = [data['name'] for data in CakeCollection.find({}, {'name': 1})]\n",
        "cakeNameList = list(data['name'] for data in CakeCollection.find({}, {'name': 1}))\n",
        "# 1 means include the field.\n",
        "# 0 means exclude the field.\n",
        "\n",
        "cakeNameList"
      ],
      "metadata": {
        "id": "gfTxsdnDjzfc",
        "colab": {
          "base_uri": "https://localhost:8080/"
        },
        "outputId": "90cbd729-a16b-47eb-e130-6cfb39e88bff"
      },
      "execution_count": 6,
      "outputs": [
        {
          "output_type": "execute_result",
          "data": {
            "text/plain": [
              "['Chocolate Cake', 'Cheese Cake', 'example']"
            ]
          },
          "metadata": {},
          "execution_count": 6
        }
      ]
    },
    {
      "cell_type": "code",
      "source": [
        "BakeryDB.list_collection_names()"
      ],
      "metadata": {
        "id": "bRc2xL3viB_V"
      },
      "execution_count": null,
      "outputs": []
    },
    {
      "cell_type": "markdown",
      "source": [
        "# Cake Information"
      ],
      "metadata": {
        "id": "ryu5RDSSuXDM"
      }
    },
    {
      "cell_type": "code",
      "source": [
        "#@title Cake Information\n",
        "\n",
        "Name = \"example\" #@param {type:\"string\"}\n",
        "Short_Description = \"example\" #@param {type: \"string\"}\n",
        "Description = \"example\" #@param {type: \"string\"}\n",
        "#@markdown > \"enter ingredients in format A,B,C (no spacing)\"\n",
        "Ingredients = \"A,B,C,D\" #@param {type:\"string\"}\n",
        "Image_URL = \"https://url_example.jpeg\" #@param {type : \"string\"}\n",
        "Recipe = \"example\" #@param {type: \"string\"}\n",
        "Stock = 100 #@param {type: \"integer\"}\n",
        "\n",
        "ingredientsArray = Ingredients.split(\",\");"
      ],
      "metadata": {
        "id": "bq8an3k94cvO"
      },
      "execution_count": null,
      "outputs": []
    },
    {
      "cell_type": "code",
      "source": [
        "# adding cake\n",
        "cakeInput = {\n",
        "    'name' : Name,\n",
        "    'shortDescription': Short_Description,\n",
        "    'description': Description,\n",
        "    'image': Image_URL,\n",
        "    'ingredients': ingredientsArray,\n",
        "    'recipe' : Recipe,\n",
        "    'stock' : Stock\n",
        "    }\n",
        "\n",
        "CakeCollection.insert_one(cakeInput)\n",
        "list (CakeCollection.find())"
      ],
      "metadata": {
        "id": "mXZyXqMwmwQa",
        "collapsed": true
      },
      "execution_count": null,
      "outputs": []
    },
    {
      "cell_type": "markdown",
      "source": [
        "#Customer Information"
      ],
      "metadata": {
        "id": "j_FSw1_ZvoD9"
      }
    },
    {
      "cell_type": "code",
      "source": [
        "#@title Customer Information\n",
        "\n",
        "Firstname = \"Veggiee\" #@param {type:\"string\"}\n",
        "Lastname = \"Pak\" #@param {type:\"string\"}\n",
        "Age = 18 #@param {type:\"slider\", min:10, max:100, step:1}\n",
        "Gender = \"Male\" #@param [\"Male\", \"Female\", \"Not Specify\"]\n",
        "Telephone = \"090\" #@param {type:\"string\"}\n",
        "Email = \"example@gmail.com\" #@param {type:\"string\"}\n",
        "\n",
        "#@markdown Address\n",
        "Street = \"example\" #@param {type:\"string\"}\n",
        "Village_number = \"22/2\" #@param {type:\"string\"}\n",
        "City = \"example\" #@param {type:\"string\"}\n",
        "PostalCode = \"12345\" #@param {type:\"string\"}"
      ],
      "metadata": {
        "id": "aBWpSZl3vryd"
      },
      "execution_count": null,
      "outputs": []
    },
    {
      "cell_type": "code",
      "source": [
        "# adding customer info\n",
        "customerInput = {\n",
        "    'firstname' : Firstname,\n",
        "    'lastname': Lastname,\n",
        "    'age': Age,\n",
        "    'gender': Gender,\n",
        "    'telephone' : Telephone,\n",
        "    'email' : Email,\n",
        "    'street' : Street,\n",
        "    'villageNumber': Village_number,\n",
        "    'city': City,\n",
        "    'postal-code': PostalCode\n",
        "    }\n",
        "CustomerCollection = BakeryDB.customer_details\n",
        "CustomerCollection.insert_one(customerInput)\n",
        "list (CustomerCollection.find())"
      ],
      "metadata": {
        "id": "7rwcV5LDpToo"
      },
      "execution_count": null,
      "outputs": []
    },
    {
      "cell_type": "markdown",
      "source": [
        "#Ordering"
      ],
      "metadata": {
        "id": "gfSxkJuAvvKV"
      }
    },
    {
      "cell_type": "code",
      "source": [
        "#@title Ordering\n",
        "\n",
        "Firstname = \"Veggiee\" #@param {type:\"string\"}\n",
        "Lastname = \"Pak\" #@param {type:\"string\"}\n",
        "Vegan_Order = \"No\" #@param [\"Yes\", \"No\"]\n",
        "if Vegan_Order == \"Yes\":\n",
        "  Vegan = True\n",
        "else:\n",
        "  Vegan = False\n",
        "\n",
        "Menu = \"Chocolate Cake\" #@param {type : \"string\"}\n",
        "Quantity = 0 #@param {type : \"integer\"}\n",
        "Pickup_Date = \"2024-06-08\" #@param {type : \"date\"}\n",
        "Pickup_Location = \"Delivery\" #@param [\"Self-pickup\", \"Delivery\"]"
      ],
      "metadata": {
        "id": "V8HD6hfKvuZN"
      },
      "execution_count": 11,
      "outputs": []
    },
    {
      "cell_type": "code",
      "source": [
        "# adding Ordering info\n",
        "from datetime import date\n",
        "\n",
        "orderingInput = {\n",
        "    'firstname' : Firstname,\n",
        "    'lastname': Lastname,\n",
        "    'vegan' : Vegan_Order,\n",
        "    'menu' : Menu,\n",
        "    'quantity': Quantity,\n",
        "    'orderingDate' : str(date.today()),\n",
        "    'pickupDate' : Pickup_Date,\n",
        "    'pickupLocation' : Pickup_Location\n",
        "    }\n",
        "\n",
        "OrderingCollection = BakeryDB.order_records\n",
        "OrderingCollection.insert_one(orderingInput)\n",
        "list (OrderingCollection.find())"
      ],
      "metadata": {
        "id": "3GYCWneup0zK",
        "collapsed": true,
        "colab": {
          "base_uri": "https://localhost:8080/"
        },
        "outputId": "46051a5e-7245-40fd-9888-8a8ead628be5"
      },
      "execution_count": 12,
      "outputs": [
        {
          "output_type": "execute_result",
          "data": {
            "text/plain": [
              "[{'_id': ObjectId('66486239b58df0a4120a2075'),\n",
              "  'firstname': 'Veggiee',\n",
              "  'lastname': 'Pak',\n",
              "  'vegan': 'No',\n",
              "  'menu': 'Cheese Cake',\n",
              "  'quantity': 0,\n",
              "  'orderingDate': '2024-05-18',\n",
              "  'pickupDate': '2024-05-31',\n",
              "  'pickupLocation': 'Self-pickup'},\n",
              " {'_id': ObjectId('66486251b58df0a4120a2076'),\n",
              "  'firstname': 'example',\n",
              "  'lastname': 'example',\n",
              "  'vegan': 'No',\n",
              "  'menu': 'Chocolate Cake',\n",
              "  'quantity': 0,\n",
              "  'orderingDate': '2024-05-18',\n",
              "  'pickupDate': '2024-05-31',\n",
              "  'pickupLocation': 'Self-pickup'},\n",
              " {'_id': ObjectId('664865c6b58df0a4120a2077'),\n",
              "  'firstname': 'Veggiee',\n",
              "  'lastname': 'Pak',\n",
              "  'vegan': 'No',\n",
              "  'menu': 'Chocolate Cake',\n",
              "  'quantity': 0,\n",
              "  'orderingDate': '2024-05-18',\n",
              "  'pickupDate': '2024-06-08',\n",
              "  'pickupLocation': 'Delivery'}]"
            ]
          },
          "metadata": {},
          "execution_count": 12
        }
      ]
    },
    {
      "cell_type": "code",
      "source": [],
      "metadata": {
        "id": "vgi5iakLv6v-"
      },
      "execution_count": null,
      "outputs": []
    }
  ]
}